{
 "cells": [
  {
   "cell_type": "markdown",
   "metadata": {},
   "source": [
    "### Data Preprocessing"
   ]
  },
  {
   "cell_type": "code",
   "execution_count": 2,
   "metadata": {},
   "outputs": [],
   "source": [
    "import os\n",
    "from PIL import Image\n",
    "import torchvision.transforms as T\n",
    "from shutil import copy2\n",
    "\n",
    "# Define the resizing transformation\n",
    "resize_transform = T.Resize((350, 350))\n",
    "\n",
    "# Define directories\n",
    "base_dir = 'dataset/prod/yolo_dataset'\n",
    "folders = ['train', 'test', 'valid']  # Folder names to process\n",
    "\n",
    "# Function to resize images and save them to a new folder\n",
    "def resize_images(folder):\n",
    "    image_dir = os.path.join(base_dir, folder, 'images')\n",
    "    label_dir = os.path.join(base_dir, folder, 'labels')\n",
    "\n",
    "    # Create new directories for resized images\n",
    "    resized_image_dir = os.path.join(base_dir, folder, 'resized_images')\n",
    "    resized_label_dir = os.path.join(base_dir, folder, 'resized_labels')\n",
    "    os.makedirs(resized_image_dir, exist_ok=True)\n",
    "    os.makedirs(resized_label_dir, exist_ok=True)\n",
    "\n",
    "    # Process each image in the folder\n",
    "    for image_file in os.listdir(image_dir):\n",
    "        if image_file.endswith(('.jpg', '.png', '.jpeg')):\n",
    "            image_path = os.path.join(image_dir, image_file)\n",
    "\n",
    "            # Open image and resize\n",
    "            img = Image.open(image_path)\n",
    "            resized_img = resize_transform(img)\n",
    "\n",
    "            # Save resized image to new folder\n",
    "            resized_image_path = os.path.join(resized_image_dir, image_file)\n",
    "            resized_img.save(resized_image_path)\n",
    "\n",
    "            # Copy the corresponding label (no change needed for labels)\n",
    "            label_file = image_file.replace('.jpg', '.xml')  # Adjust extension based on your label format\n",
    "            original_label_path = os.path.join(label_dir, label_file)\n",
    "            if os.path.exists(original_label_path):\n",
    "                resized_label_path = os.path.join(resized_label_dir, label_file)\n",
    "                copy2(original_label_path, resized_label_path)\n",
    "\n",
    "# Loop through each folder (train, test, valid) and resize images\n",
    "for folder in folders:\n",
    "    resize_images(folder)\n"
   ]
  },
  {
   "cell_type": "code",
   "execution_count": null,
   "metadata": {},
   "outputs": [],
   "source": []
  }
 ],
 "metadata": {
  "kernelspec": {
   "display_name": "py3-8-11",
   "language": "python",
   "name": "python3"
  },
  "language_info": {
   "codemirror_mode": {
    "name": "ipython",
    "version": 3
   },
   "file_extension": ".py",
   "mimetype": "text/x-python",
   "name": "python",
   "nbconvert_exporter": "python",
   "pygments_lexer": "ipython3",
   "version": "3.8.19"
  }
 },
 "nbformat": 4,
 "nbformat_minor": 2
}
